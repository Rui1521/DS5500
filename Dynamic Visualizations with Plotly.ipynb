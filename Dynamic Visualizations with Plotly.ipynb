{
 "cells": [
  {
   "cell_type": "markdown",
   "metadata": {},
   "source": [
    "## Dynamic Visualizations with Plotly (Rui Wang)"
   ]
  },
  {
   "cell_type": "code",
   "execution_count": null,
   "metadata": {},
   "outputs": [],
   "source": [
    "import plotly \n",
    "import plotly.plotly as py\n",
    "import pandas as pd\n",
    "import numpy as np\n",
    "import matplotlib.pyplot as plt\n",
    "import plotly.graph_objs as go\n",
    "import plotly \n",
    "plotly.tools.set_credentials_file(username='Rui1521', api_key='pzyDXfPbHKuTcOUg8Uvg')"
   ]
  },
  {
   "cell_type": "markdown",
   "metadata": {},
   "source": [
    "## 4. "
   ]
  },
  {
   "cell_type": "code",
   "execution_count": 34,
   "metadata": {},
   "outputs": [
    {
     "name": "stdout",
     "output_type": "stream",
     "text": [
      "Total number of observations: 851264\n",
      "Number of Unique values per column:\n",
      "date 1762\n",
      "symbol 501\n",
      "open 97522\n",
      "close 98520\n",
      "low 97470\n",
      "high 97784\n",
      "volume 171073\n"
     ]
    }
   ],
   "source": [
    "print(\"Total number of observations:\", data.shape[0])\n",
    "print(\"Number of Unique values per column:\")\n",
    "# Print out number of unique values in each column\n",
    "for item in data.columns:\n",
    "    print(item, len(data[item].unique()))"
   ]
  },
  {
   "cell_type": "markdown",
   "metadata": {},
   "source": [
    "All columns are value columns. There is no column that do not have duplicate values. So all columns are unsuitable as keys. But date and symbol can be used together as the key of this table."
   ]
  },
  {
   "cell_type": "markdown",
   "metadata": {},
   "source": [
    "## 5."
   ]
  },
  {
   "cell_type": "markdown",
   "metadata": {},
   "source": [
    "At the high level, the task is to analyze the stock prices over time. People are able to discover the trend and stability of stock prices over time. At the middle level, the vis can also be used by stock investors to look up the historical information about stock prices in any time interval. At the low level, the task is that a user should easily identify the close stock prices at any timestamp and compare prices among different stocks. The targets of users are finding the trends and individual values, as well as the similarity and differences among multiple stocks. Since the closing price represents the most up-to-date valuation of a security until trading commences again on the next trading day. Here we make plots of the close prices of five stocks over time."
   ]
  },
  {
   "cell_type": "markdown",
   "metadata": {},
   "source": [
    "### 6. "
   ]
  },
  {
   "cell_type": "markdown",
   "metadata": {},
   "source": [
    "1. Line Chart.\n",
    "\n",
    "\n",
    "2. Streamgraph."
   ]
  },
  {
   "cell_type": "markdown",
   "metadata": {},
   "source": [
    "## 7 & 8"
   ]
  },
  {
   "cell_type": "markdown",
   "metadata": {},
   "source": [
    "### Visualization One"
   ]
  },
  {
   "cell_type": "code",
   "execution_count": 84,
   "metadata": {},
   "outputs": [],
   "source": [
    "data = pd.read_csv(\"nyse/prices-split-adjusted.csv\")\n",
    "# Only analyze and visualize five of these stocks.\n",
    "stocks = ['AAPL', 'CLX', 'ETR', 'MCK', 'WMT']\n",
    "AAPL = data[data.symbol == 'AAPL']\n",
    "CLX = data[data.symbol == 'CLX']\n",
    "ETR = data[data.symbol == 'ETR']\n",
    "MCK = data[data.symbol == 'MCK']\n",
    "WMT = data[data.symbol == 'WMT']"
   ]
  },
  {
   "cell_type": "code",
   "execution_count": 97,
   "metadata": {},
   "outputs": [
    {
     "data": {
      "text/html": [
       "<iframe id=\"igraph\" scrolling=\"no\" style=\"border:none;\" seamless=\"seamless\" src=\"https://plot.ly/~Rui1521/2.embed\" height=\"525px\" width=\"100%\"></iframe>"
      ],
      "text/plain": [
       "<plotly.tools.PlotlyDisplay object>"
      ]
     },
     "execution_count": 97,
     "metadata": {},
     "output_type": "execute_result"
    }
   ],
   "source": [
    "# Line Chart\n",
    "trace_AAPL = go.Scatter(\n",
    "    x=AAPL.date,\n",
    "    y=AAPL.close,\n",
    "    name = \"AAPL Close\",\n",
    "    line = dict(color = '#17BECF'),\n",
    "    opacity = 0.8)\n",
    "\n",
    "trace_ETR = go.Scatter(\n",
    "    x=ETR.date,\n",
    "    y=ETR.close,\n",
    "    name = \"ETR Close\",\n",
    "    line = dict(color = '#7F7F7F'),\n",
    "    opacity = 0.8)\n",
    "\n",
    "trace_MCK = go.Scatter(\n",
    "    x=MCK.date,\n",
    "    y=MCK.close,\n",
    "    name = \"MCK Close\",\n",
    "    line = dict(color = \"#607d8b\"),\n",
    "    opacity = 0.8)\n",
    "\n",
    "trace_WMT = go.Scatter(\n",
    "    x=WMT.date,\n",
    "    y=WMT.close,\n",
    "    name = \"WMT Close\",\n",
    "    line = dict(color = \"#795548\"),\n",
    "    opacity = 0.8)\n",
    "\n",
    "trace_CLX = go.Scatter(\n",
    "    x=CLX.date,\n",
    "    y=CLX.close,\n",
    "    name = \"CLX Close\",\n",
    "    line = dict(color = \"#E91E63\"),\n",
    "    opacity = 0.8)\n",
    "\n",
    "data = [trace_AAPL, trace_ETR, trace_MCK, trace_WMT, trace_CLX]\n",
    "\n",
    "# Range Slider and Range Selector.\n",
    "layout = dict(\n",
    "    title= \"Line Chart: Close Price(AAPL, CLX, ETR, MCK, WMT)\",\n",
    "    xaxis=dict(\n",
    "        # Range Selector.\n",
    "        rangeselector=dict(\n",
    "            buttons=list([\n",
    "                dict(count=1,\n",
    "                     label='1m',\n",
    "                     step='month',\n",
    "                     stepmode='backward'),\n",
    "                dict(count=6,\n",
    "                     label='6m',\n",
    "                     step='month',\n",
    "                     stepmode='backward'),\n",
    "                dict(step='all')\n",
    "            ])\n",
    "        ),\n",
    "        # Range Slider \n",
    "        rangeslider=dict(\n",
    "            visible = True\n",
    "        ),\n",
    "        type='date'\n",
    "    ),\n",
    "    yaxis=dict(\n",
    "        title='Stock Price',\n",
    "        titlefont=dict(\n",
    "            family='Courier New, monospace',\n",
    "            size=18,\n",
    "            color='#7f7f7f'\n",
    "        )\n",
    "    ),\n",
    ")\n",
    "\n",
    "fig = dict(data=data, layout=layout)\n",
    "py.iplot(fig, filename = \"Multiple Line Plots\")"
   ]
  },
  {
   "cell_type": "markdown",
   "metadata": {},
   "source": [
    "a. Line Chart. For each stock, we have an ordered key attribute \"date\" and a quantitative value \"close\". Line chart can encode the data by connecting dots generated by these two attributes with line mark and position channel. It can show trends of the quantitative value over times. It is very suitable for the abstract task of spotting trends.\n",
    "\n",
    " \n",
    "b. MCK stock price rapidly increased starting from 2013 but gradually decreased in recent years. Other four stock prices are relatively stable from 2011 to 2016.\n",
    "\n",
    "\n",
    "c. Interactivity: Range Slider and Range Selector. These two interactivies can help users easily to find any time interval they want to analyze. That makes this vis become a tool that can support investigation at multiple levels of detail, ranging from a very high-level overview to a fully detailed view of a small part of it."
   ]
  },
  {
   "cell_type": "markdown",
   "metadata": {},
   "source": [
    "### Visualization Two"
   ]
  },
  {
   "cell_type": "code",
   "execution_count": 113,
   "metadata": {},
   "outputs": [
    {
     "data": {
      "text/html": [
       "<iframe id=\"igraph\" scrolling=\"no\" style=\"border:none;\" seamless=\"seamless\" src=\"https://plot.ly/~Rui1521/4.embed\" height=\"525px\" width=\"100%\"></iframe>"
      ],
      "text/plain": [
       "<plotly.tools.PlotlyDisplay object>"
      ]
     },
     "execution_count": 113,
     "metadata": {},
     "output_type": "execute_result"
    }
   ],
   "source": [
    "# Stacked Area Plot\n",
    "trace_AAPL = go.Scatter(\n",
    "    x=AAPL.date,\n",
    "    y=AAPL.close,\n",
    "    name = \"AAPL Close\",\n",
    "    opacity = 0.8,\n",
    "    stackgroup='one',\n",
    "    fill='tozeroy')\n",
    "\n",
    "trace_ETR = go.Scatter(\n",
    "    x=ETR.date,\n",
    "    y=ETR.close,\n",
    "    name = \"ETR Close\",\n",
    "    fill='tonexty',\n",
    "    stackgroup='one',\n",
    "    opacity = 0.8)\n",
    "\n",
    "trace_MCK = go.Scatter(\n",
    "    x=MCK.date,\n",
    "    y=MCK.close,\n",
    "    name = \"MCK Close\",\n",
    "    fill='tonexty',\n",
    "    stackgroup='one',\n",
    "    opacity = 0.8)\n",
    "\n",
    "trace_WMT = go.Scatter(\n",
    "    x=WMT.date,\n",
    "    y=WMT.close,\n",
    "    name = \"WMT Close\",\n",
    "    fill='tonexty',\n",
    "    stackgroup='one',\n",
    "    opacity = 0.8)\n",
    "\n",
    "trace_CLX = go.Scatter(\n",
    "    x=CLX.date,\n",
    "    y=CLX.close,\n",
    "    name = \"CLX Close\",\n",
    "    fill='tonexty',\n",
    "    stackgroup='one',\n",
    "    opacity = 0.8)\n",
    "\n",
    "\n",
    "data = [trace_AAPL, trace_ETR, trace_MCK, trace_WMT, trace_CLX]\n",
    "\n",
    "# Update Button\n",
    "updatemenus = list([\n",
    "    dict(type=\"buttons\",\n",
    "         active=-1,\n",
    "         buttons=list([\n",
    "             dict(label = 'Reset',\n",
    "             method = 'relayout',\n",
    "             args = [{'visible': [True, True, True, True,True]},\n",
    "                     {'title': \"Stacked Area Chart: Close Price(AAPL, CLX, ETR, MCK, WMT)\"}]),\n",
    "            dict(label = 'AAPL',\n",
    "                 method = 'update',\n",
    "                 args = [{'visible': [True, False, False, False, False]},\n",
    "                         {'title': 'AAPL'}]),\n",
    "            dict(label = 'ETR',\n",
    "                 method = 'update',\n",
    "                 args = [{'visible': [False, True, False, False, False]},\n",
    "                         {'title': 'ETR'}]),\n",
    "            dict(label = 'MCK',\n",
    "                 method = 'update',\n",
    "                 args = [{'visible': [False, False, True, False, False]},\n",
    "                         {'title': 'MCK'}]),\n",
    "            dict(label = 'WMT',\n",
    "                 method = 'update',\n",
    "                 args = [{'visible': [False, False, False, True, False]},\n",
    "                         {'title': 'WMT'}]), \n",
    "            dict(label = 'CLX',\n",
    "             method = 'update',\n",
    "             args = [{'visible': [False, False, False, False, True]},\n",
    "                     {'title': 'CLX'}])\n",
    "            \n",
    "        ]),\n",
    "    )\n",
    "])\n",
    "\n",
    "# Range Slider and Range Selector.\n",
    "layout = dict(\n",
    "    title= \"Stacked Area Chart: Close Price(AAPL, CLX, ETR, MCK, WMT)\",\n",
    "    xaxis=dict(\n",
    "        rangeselector=dict(\n",
    "            buttons=list([\n",
    "                dict(count=1,\n",
    "                     label='1m',\n",
    "                     step='month',\n",
    "                     stepmode='backward'),\n",
    "                dict(count=6,\n",
    "                     label='6m',\n",
    "                     step='month',\n",
    "                     stepmode='backward'),\n",
    "                dict(step='all')\n",
    "            ])\n",
    "        ),\n",
    "        rangeslider=dict(\n",
    "            visible = True\n",
    "        ),\n",
    "        type='date'\n",
    "    ),\n",
    "    yaxis=dict(\n",
    "        title='Stock Price',\n",
    "        titlefont=dict(\n",
    "            family='Courier New, monospace',\n",
    "            size=18,\n",
    "            color='#7f7f7f'\n",
    "        )\n",
    "    ),\n",
    "    updatemenus=updatemenus\n",
    ")\n",
    "\n",
    "fig = dict(data=data, layout=layout)\n",
    "py.iplot(fig, filename='stacked-area-plot')"
   ]
  },
  {
   "cell_type": "markdown",
   "metadata": {},
   "source": [
    "a. Stacked Area Chart. It is perfect for multidimensional table with one ordered key attribute and multiple quantitative attributes. Area Chart can encode the data with area mark and area channel. By stacking area charts on top of each other, we can get a visual summation of time-series values.\n",
    "\n",
    "b. MCK stock price rapidly increased starting from 2013 but gradually decreased in recent years. Other four stock prices are relatively stable from 2011 to 2016. And all five stocks shows similarly short term trends.\n",
    "\n",
    "c. Apart from Range Slider and Range Selector. Even though Stacked Area Chart can give a visual summation of time-series values, stacking may make it difficult to accurately interpret trends. So I add an update button, so useres can select which stock they want to analyze. "
   ]
  }
 ],
 "metadata": {
  "kernelspec": {
   "display_name": "Python 3",
   "language": "python",
   "name": "python3"
  },
  "language_info": {
   "codemirror_mode": {
    "name": "ipython",
    "version": 3
   },
   "file_extension": ".py",
   "mimetype": "text/x-python",
   "name": "python",
   "nbconvert_exporter": "python",
   "pygments_lexer": "ipython3",
   "version": "3.6.8"
  }
 },
 "nbformat": 4,
 "nbformat_minor": 2
}
